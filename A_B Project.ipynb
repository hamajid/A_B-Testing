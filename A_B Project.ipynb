{
 "cells": [
  {
   "cell_type": "markdown",
   "metadata": {},
   "source": [
    "# A/B Testing Project\n",
    "## Udacity free trial experiment\n",
    "\n"
   ]
  },
  {
   "cell_type": "markdown",
   "metadata": {},
   "source": [
    "## Experiment Overview: Free Trial Screener\n",
    "\n",
    "At the time of this experiment, Udacity courses have two options on the home page: \"start free trial\", and \"access course materials\". If the user clicks on the \"start free trial\", he will be asked to enter his credit card information, and he will be enrolled for the paid version of the course for free during the 14 days free trail period. After 14 days, if the user didn't cancel the enrollment he will be automatically charged for the courses.\n",
    "The second option, 'access course materials' does not require a credit card information and gives full access to the course materials and quizzes excluding project feedback, coaching service and verified certificate.\n",
    "For this experiment Udacity tested a change where those users who clicked \"start free trial\" were asked how much time they were willing to devote to the course. If the answer is 5 or more hours per week they will be taken through the checkout process as usual. If the users are not devoting to spend at least 5 hours per week, a message would appear indicating the need for a greater time commitment to enable success and suggesting they might like to access the free content.\n",
    "The hypothesis was that this change might set clearer expectations for the student, and reduce the number of frustrated students who left the 14 day trial because they did not have enough time to work on the course. The change also should not significantly reduce the number of students who continued past the free trial and eventually completed the course. \n",
    "So if Gross conversion for the experiment group is lower than that in the control group. This indicates that the change is effective in communicating to prospective students the time commitment needed to be successful in the course, and we expect this change to be significant statistically and practically. Also the net conversion for the experiment group is not significantly lower than that in the control group, we would like that the net conversion to do not be practically or statistically significant\n",
    "The unit of diversion is a cookie, although if the user / student enrolls in the free trial, a user-id is generated and used to track the user from that point forward. The same user-id cannot enroll in the free trial twice. For users that do not enroll, their user-id is not tracked in the experiment, even if they were signed in when they visited the course overview page. \n",
    "\n"
   ]
  },
  {
   "cell_type": "markdown",
   "metadata": {},
   "source": [
    "## Metric Choice"
   ]
  },
  {
   "cell_type": "markdown",
   "metadata": {},
   "source": [
    "\n",
    "List which metrics you will use as invariant metrics and evaluation metrics here.\n",
    "\n",
    "Here is the list of metrics chosen to be used:\n",
    "\n",
    "- **Number of Cookies** : That is, number of unique cookies to visit the course overview page. The reason of using it is because it is the unit of diversion for the project and therefore an equal number of cookies would be expected. Also because the number of cookies are counted before the users are exposed to the experiment in each group. It is a good invariant metric because it's being directly randomized between experiment and control group. Is a bad evaluation metric because it won't be different between experiment and control.\n",
    "\n",
    "- **Number of Clicks**: That is, number of users who enroll in the free trial. The reason of using it as invariant metric is because the clicks are pre-experiment and it’s expected to not change between the control and experiment group, in other word the clicks happen before the exposure of the users to the experiment, and the number of clicks should be equal in each group because only the users exposed to experiment are the only one will be in the experiment. I didn’t choose it as a variant metric it won't be different between experiment and control.\n",
    "\n",
    "- **Click-through Probability**: That is, number of unique cookies to click the \"Start free trial\" button divided by number of unique cookies to view the course overview page. Since this is a ratio between the numbers of users to click the free trial button over the number of unique cookies to visit the course overview page, it is a good invariant metric and bad evaluation metric because it’s expected to remind unchanged for both groups.\n",
    "\n",
    "- **Gross Conversion**: he number of users to enroll in free trial over the number of clicks. This will be tracked by using user ids. The reason that this was chosen as an evaluation metric is that measure the number of enrolled student after been answering the 5 hours or more commitment to the class question, and it will create a variation between the control and experiment groups. And that what we are trying to measure. So the number of enrolled students will not be the same for the control and experiment groups, for that reason it is a good evaluation metric and bad invariant metric.\n",
    "\n",
    "- **Net Conversion**: The number of user-ids to remain enrolled past the 14-day boundary (and thus make at least one payment) divided by the number of unique cookies to click the “Start free trial” button. And this also tracked and measured with user ids. The reason that this was chosen as an evaluation metric is that measure the number of enrolled student that pay for the course after the 14 free trial days. So the net conversion is a good evaluation metric because it will change from control to experiment groups’ because the number of user ids will not be the same. And we can’t use it as invariant metric.\n",
    "\n",
    "#### Unused Metric\n",
    "\n",
    "- **Number of user-ids** : The number of users to enroll in the free trial. User-ids are only tracked after a student enrolls in the course, so this is not a good choice as an invariant metric because the user-ids are counted after the click occurs, and therefore will be effected by the test, which means that we would expect to have different distributions and there is no way to normalize it.\n",
    "\n",
    "- **Retention**: The number of user-ids to remain enrolled past the 14-day boundary (and thus make at least one payment) divided by number of user-ids to complete checkout. The reason that this was not chosen as an evaluation metric even though it tells us exactly how many users remained enrolled after the 14 days trial period, is because it would cause the experiment to take too long, also it's using different units for the analysis and diversion, which can lead to inaccuracies, furthermore Gross Conversion and Net Conversion are good enough for testing our hypothesis.\n",
    "\n"
   ]
  },
  {
   "cell_type": "markdown",
   "metadata": {},
   "source": [
    "## Load Data"
   ]
  },
  {
   "cell_type": "code",
   "execution_count": 132,
   "metadata": {},
   "outputs": [],
   "source": [
    "import numpy as np\n",
    "import pandas as pd\n",
    "import math\n"
   ]
  },
  {
   "cell_type": "code",
   "execution_count": 133,
   "metadata": {},
   "outputs": [
    {
     "data": {
      "text/html": [
       "<div>\n",
       "<style scoped>\n",
       "    .dataframe tbody tr th:only-of-type {\n",
       "        vertical-align: middle;\n",
       "    }\n",
       "\n",
       "    .dataframe tbody tr th {\n",
       "        vertical-align: top;\n",
       "    }\n",
       "\n",
       "    .dataframe thead th {\n",
       "        text-align: right;\n",
       "    }\n",
       "</style>\n",
       "<table border=\"1\" class=\"dataframe\">\n",
       "  <thead>\n",
       "    <tr style=\"text-align: right;\">\n",
       "      <th></th>\n",
       "      <th>full_metric_name</th>\n",
       "      <th>value</th>\n",
       "    </tr>\n",
       "  </thead>\n",
       "  <tbody>\n",
       "    <tr>\n",
       "      <th>pageviews</th>\n",
       "      <td>Unique cookies to view course overview page pe...</td>\n",
       "      <td>40000.000000</td>\n",
       "    </tr>\n",
       "    <tr>\n",
       "      <th>clicks</th>\n",
       "      <td>Unique cookies to click \"Start free trial\" per...</td>\n",
       "      <td>3200.000000</td>\n",
       "    </tr>\n",
       "    <tr>\n",
       "      <th>enrollments</th>\n",
       "      <td>Enrollments per day:</td>\n",
       "      <td>660.000000</td>\n",
       "    </tr>\n",
       "    <tr>\n",
       "      <th>ctp</th>\n",
       "      <td>Click-through-probability on \"Start free trial\":</td>\n",
       "      <td>0.080000</td>\n",
       "    </tr>\n",
       "    <tr>\n",
       "      <th>p_enroll_click</th>\n",
       "      <td>Probability of enrolling, given click:</td>\n",
       "      <td>0.206250</td>\n",
       "    </tr>\n",
       "    <tr>\n",
       "      <th>p_pay_enroll</th>\n",
       "      <td>Probability of payment, given enroll:</td>\n",
       "      <td>0.530000</td>\n",
       "    </tr>\n",
       "    <tr>\n",
       "      <th>p_pay_click</th>\n",
       "      <td>Probability of payment, given click</td>\n",
       "      <td>0.109313</td>\n",
       "    </tr>\n",
       "  </tbody>\n",
       "</table>\n",
       "</div>"
      ],
      "text/plain": [
       "                                                 full_metric_name  \\\n",
       "pageviews       Unique cookies to view course overview page pe...   \n",
       "clicks          Unique cookies to click \"Start free trial\" per...   \n",
       "enrollments                                  Enrollments per day:   \n",
       "ctp              Click-through-probability on \"Start free trial\":   \n",
       "p_enroll_click             Probability of enrolling, given click:   \n",
       "p_pay_enroll                Probability of payment, given enroll:   \n",
       "p_pay_click                   Probability of payment, given click   \n",
       "\n",
       "                       value  \n",
       "pageviews       40000.000000  \n",
       "clicks           3200.000000  \n",
       "enrollments       660.000000  \n",
       "ctp                 0.080000  \n",
       "p_enroll_click      0.206250  \n",
       "p_pay_enroll        0.530000  \n",
       "p_pay_click         0.109313  "
      ]
     },
     "execution_count": 133,
     "metadata": {},
     "output_type": "execute_result"
    }
   ],
   "source": [
    "# Baseline data\n",
    "xlsx = pd.ExcelFile('Final Project Baseline Values.xlsx')\n",
    "baseline = pd.read_excel(xlsx, 'Sheet1', header=None, names = ['full_metric_name','value'])\n",
    "baseline.set_index([['pageviews', 'clicks', 'enrollments', 'ctp', 'p_enroll_click', 'p_pay_enroll', 'p_pay_click']], inplace=True)\n",
    "baseline"
   ]
  },
  {
   "cell_type": "code",
   "execution_count": 134,
   "metadata": {},
   "outputs": [],
   "source": [
    "# import experiment data\n",
    "df_control = pd.read_csv(\"FP_Control.csv\")\n",
    "df_experiment = pd.read_csv(\"FP_Experiment.csv\")"
   ]
  },
  {
   "cell_type": "code",
   "execution_count": 135,
   "metadata": {},
   "outputs": [
    {
     "data": {
      "text/plain": [
       "0.125"
      ]
     },
     "execution_count": 135,
     "metadata": {},
     "output_type": "execute_result"
    }
   ],
   "source": [
    "# Scale factor for a sample of 5000 pageviews\n",
    "scale_factor = 5000/baseline.loc['pageviews', 'value']\n",
    "scale_factor"
   ]
  },
  {
   "cell_type": "code",
   "execution_count": 136,
   "metadata": {},
   "outputs": [
    {
     "data": {
      "text/html": [
       "<div>\n",
       "<style scoped>\n",
       "    .dataframe tbody tr th:only-of-type {\n",
       "        vertical-align: middle;\n",
       "    }\n",
       "\n",
       "    .dataframe tbody tr th {\n",
       "        vertical-align: top;\n",
       "    }\n",
       "\n",
       "    .dataframe thead th {\n",
       "        text-align: right;\n",
       "    }\n",
       "</style>\n",
       "<table border=\"1\" class=\"dataframe\">\n",
       "  <thead>\n",
       "    <tr style=\"text-align: right;\">\n",
       "      <th></th>\n",
       "      <th>full_metric_name</th>\n",
       "      <th>value</th>\n",
       "      <th>sample</th>\n",
       "    </tr>\n",
       "  </thead>\n",
       "  <tbody>\n",
       "    <tr>\n",
       "      <th>pageviews</th>\n",
       "      <td>Unique cookies to view course overview page pe...</td>\n",
       "      <td>40000.000000</td>\n",
       "      <td>5000.000000</td>\n",
       "    </tr>\n",
       "    <tr>\n",
       "      <th>clicks</th>\n",
       "      <td>Unique cookies to click \"Start free trial\" per...</td>\n",
       "      <td>3200.000000</td>\n",
       "      <td>400.000000</td>\n",
       "    </tr>\n",
       "    <tr>\n",
       "      <th>enrollments</th>\n",
       "      <td>Enrollments per day:</td>\n",
       "      <td>660.000000</td>\n",
       "      <td>82.500000</td>\n",
       "    </tr>\n",
       "    <tr>\n",
       "      <th>ctp</th>\n",
       "      <td>Click-through-probability on \"Start free trial\":</td>\n",
       "      <td>0.080000</td>\n",
       "      <td>0.080000</td>\n",
       "    </tr>\n",
       "    <tr>\n",
       "      <th>p_enroll_click</th>\n",
       "      <td>Probability of enrolling, given click:</td>\n",
       "      <td>0.206250</td>\n",
       "      <td>0.206250</td>\n",
       "    </tr>\n",
       "    <tr>\n",
       "      <th>p_pay_enroll</th>\n",
       "      <td>Probability of payment, given enroll:</td>\n",
       "      <td>0.530000</td>\n",
       "      <td>0.530000</td>\n",
       "    </tr>\n",
       "    <tr>\n",
       "      <th>p_pay_click</th>\n",
       "      <td>Probability of payment, given click</td>\n",
       "      <td>0.109313</td>\n",
       "      <td>0.109313</td>\n",
       "    </tr>\n",
       "  </tbody>\n",
       "</table>\n",
       "</div>"
      ],
      "text/plain": [
       "                                                 full_metric_name  \\\n",
       "pageviews       Unique cookies to view course overview page pe...   \n",
       "clicks          Unique cookies to click \"Start free trial\" per...   \n",
       "enrollments                                  Enrollments per day:   \n",
       "ctp              Click-through-probability on \"Start free trial\":   \n",
       "p_enroll_click             Probability of enrolling, given click:   \n",
       "p_pay_enroll                Probability of payment, given enroll:   \n",
       "p_pay_click                   Probability of payment, given click   \n",
       "\n",
       "                       value       sample  \n",
       "pageviews       40000.000000  5000.000000  \n",
       "clicks           3200.000000   400.000000  \n",
       "enrollments       660.000000    82.500000  \n",
       "ctp                 0.080000     0.080000  \n",
       "p_enroll_click      0.206250     0.206250  \n",
       "p_pay_enroll        0.530000     0.530000  \n",
       "p_pay_click         0.109313     0.109313  "
      ]
     },
     "execution_count": 136,
     "metadata": {},
     "output_type": "execute_result"
    }
   ],
   "source": [
    "# Calculating the sample value for each metric\n",
    "\n",
    "values = baseline['value'].tolist()\n",
    "\n",
    "sample_vals = []\n",
    "for i in range(0, len(values)):\n",
    "    if i < 3:\n",
    "        sample_vals.append(values[i]*scale_factor)\n",
    "    else:\n",
    "        sample_vals.append(values[i])\n",
    "        \n",
    "baseline['sample'] = sample_vals\n",
    "baseline"
   ]
  },
  {
   "cell_type": "code",
   "execution_count": 137,
   "metadata": {},
   "outputs": [
    {
     "name": "stdout",
     "output_type": "stream",
     "text": [
      "Standard deviation for the gross conversion metric : 0.0202\n",
      "Standard deviation for the Retention metric : 0.0549\n",
      "Standard deviation for the net conversion  metric : 0.0156\n"
     ]
    }
   ],
   "source": [
    "# Standard deviation for Gross Conversion:\n",
    "SDGC = round(np.sqrt((.206250*(1-.206250))/(5000*0.08)),4)\n",
    "print \"Standard deviation for the gross conversion metric :\", SDGC\n",
    "\n",
    "# Standard deviation for Gross Conversion:\n",
    "\n",
    "SDR = round(np.sqrt((.53*(1-.53))/(5000*0.0165)),4)\n",
    "print \"Standard deviation for the Retention metric :\",SDR\n",
    "\n",
    "# Standard deviation for Gross Conversion:\n",
    "SDNC = round(np.sqrt((.109313*(1-.109313))/(5000*0.08)),4)\n",
    "print \"Standard deviation for the net conversion  metric :\",SDNC"
   ]
  },
  {
   "cell_type": "markdown",
   "metadata": {},
   "source": [
    "### Measuring Standard Deviation\n",
    "\n",
    "I used a normal approximation of the binomial distribution.  The normal approximation can be used since the sample size is suitably large.  The standard deviation for both of the above is calculated as:\n",
    "\n",
    "$$\\sqrt{{p(1-p)} \\over {n}}$$\n",
    "\n",
    "where p is the probability of success (enrolling/paying), and $n$ is the sample size.\n",
    "Our sample size is 5000 and the result is presented in the following table: \n",
    "\n",
    "\n",
    "\n",
    "| Evaluation Metric | Standard Deviation |\n",
    "| ----------------- |:------------------:| \n",
    "| Gross Conversion  |     0.0202         |\n",
    "| Retention         |     0.0549         |\n",
    "| Net Conversion    |     0.0156         |\n",
    "\n",
    "Analytical and empirical standard deviations tend to have similar measurements when the unit of diversion (cookies that click the \"Start free trial\" button) is equal to the unit of analysis. Gross Conversion and Net Conversion are expected to have similar standard deviation while Retention does not. If Retention is ultimately used, then the standard deviation should be calculated empirically.\n"
   ]
  },
  {
   "cell_type": "markdown",
   "metadata": {},
   "source": [
    "## Sizing"
   ]
  },
  {
   "cell_type": "markdown",
   "metadata": {},
   "source": [
    "### Number of Samples Given Power\n",
    "\n",
    "I will use this <a href=\"http://www.evanmiller.org/ab-testing/sample-size.html\"> calculator</a> given an alpha of 0.05 and a beta of 0.2.<br/> to calaculate the sample size for each metric:\n",
    "\n",
    "#### **Gross Conversion**\n",
    "\n",
    "* Baseline Conversion Rate: 0.20625\n",
    "* Minimum Detectable Effect: 0.01\n",
    "* sample size = 25,835\n",
    "* total sample size = 51,670\n",
    "* clicks/pageview: 3200/40000 = .08\n",
    "\n",
    "**pageviews required = 645,875**\n",
    "\n",
    "\n",
    "#### **Retention**\n",
    "\n",
    "* Baseline Conversion Rate: 0.53\n",
    "* Minimum Detectable Effect: 0.01\n",
    "* sample size = 39,155 \n",
    "* total sample size = 78,230 \n",
    "* enrollments/pageview: 660/40000 = .0165\n",
    "\n",
    "**pageviews required = 4,741,212**\n",
    "\n",
    "\n",
    "#### **Net Conversion**\n",
    "\n",
    "* Baseline Conversion Rate: 0.1093125\n",
    "* Minimum Detectable Effect: 0.75\n",
    "* sample size = 27,413\n",
    "* total sample size = 54,826\n",
    "* clicks/pageview: 3200/40000 = 0.08\n",
    "\n",
    "**pageviews required = 685,325**\n",
    "\n",
    "In order to conduct the experiment we need 4,741,213 pageview. This is a high number if we take in consideration the number of people that visit the site daily."
   ]
  },
  {
   "cell_type": "markdown",
   "metadata": {},
   "source": [
    "### Duration vs. Exposure\n",
    "\n",
    "To conduct the experiment we will need 4,741,213 pagewiew and with a given 40,000 pageview a day we will need 119 days which is a long duration for such experiment. To reduce the experiment period I'll exclude the “Retention\" metric and instead use the \"Net Conversion\" metric that is only 685,325 pageview, so the duration of the experiment will be only 18 days with a 100% exposures which is a reasonable time frame. And since no sensitive data is collected from the user we will consider that the experiment has no to insignificant risk."
   ]
  },
  {
   "cell_type": "markdown",
   "metadata": {},
   "source": [
    "## Experiment Analysis\n"
   ]
  },
  {
   "cell_type": "markdown",
   "metadata": {},
   "source": [
    "### Sanity Checks\n",
    "\n",
    "Let's do a sanity check for each invariant metric to make sure our assumptions about the experiment have been satisfied.\n",
    "we'll calculate totals for cookies views, clicks, and click-through-probability. It's expected that the experiment and control groups should be relatively even. Then, we'll calculate the Observed value, Standard Error, Marginal Error, Confidence Interval, for each invariant metric, and see if those values whether pass the sanity checks or not:\n",
    "\n",
    "\n",
    "#### **Number of Cookies**\n",
    "Control\tExperiment\tTotal\tExpected_value\tObserved_value\tStandard_Error\tMarginal_Error\tCI_lower\tCI_upper\tPass_Sanity\n",
    "* Expected Value: 0.5\n",
    "* Observed Value: 0.499360\n",
    "* Standard Error: 0.001904\n",
    "* Marginal Error: 0.003732\n",
    "* CI Lower Bound: 0.496268\n",
    "* CI Upper Bound: 0.503732\n",
    "\n",
    "**Result: PASS**\n",
    "\n",
    "#### **Number of Clicks**\n",
    "\n",
    "* Expected Value: 0.5\n",
    "* Observed Value: 0.499533\n",
    "* Standard Error: 0.006642\n",
    "* Marginal Error: 0.013018\n",
    "* CI Lower Bound: 0.486982\n",
    "* CI Upper Bound: 0.513018\n",
    "\n",
    "**Result: PASS**\n",
    "\n",
    "#### **Click-through Probability**\n",
    "\n",
    "* Expected Value: 0.082123\n",
    "* Observed Value: 0.082182\n",
    "* Standard Error: 0.000467\n",
    "* Marginal Error: 0.000915\n",
    "* CI Lower Bound: 0.083098\n",
    "* CI Upper Bound: 0.081267\n",
    "\n",
    "**Result: PASS**"
   ]
  },
  {
   "cell_type": "code",
   "execution_count": 138,
   "metadata": {},
   "outputs": [
    {
     "data": {
      "text/html": [
       "<div>\n",
       "<style scoped>\n",
       "    .dataframe tbody tr th:only-of-type {\n",
       "        vertical-align: middle;\n",
       "    }\n",
       "\n",
       "    .dataframe tbody tr th {\n",
       "        vertical-align: top;\n",
       "    }\n",
       "\n",
       "    .dataframe thead th {\n",
       "        text-align: right;\n",
       "    }\n",
       "</style>\n",
       "<table border=\"1\" class=\"dataframe\">\n",
       "  <thead>\n",
       "    <tr style=\"text-align: right;\">\n",
       "      <th></th>\n",
       "      <th>Control</th>\n",
       "      <th>Experiment</th>\n",
       "    </tr>\n",
       "  </thead>\n",
       "  <tbody>\n",
       "    <tr>\n",
       "      <th>cookies</th>\n",
       "      <td>345543.0</td>\n",
       "      <td>344660.0</td>\n",
       "    </tr>\n",
       "    <tr>\n",
       "      <th>clicks</th>\n",
       "      <td>28378.0</td>\n",
       "      <td>28325.0</td>\n",
       "    </tr>\n",
       "    <tr>\n",
       "      <th>enrollments</th>\n",
       "      <td>3785.0</td>\n",
       "      <td>3423.0</td>\n",
       "    </tr>\n",
       "    <tr>\n",
       "      <th>payments</th>\n",
       "      <td>2033.0</td>\n",
       "      <td>1945.0</td>\n",
       "    </tr>\n",
       "  </tbody>\n",
       "</table>\n",
       "</div>"
      ],
      "text/plain": [
       "              Control  Experiment\n",
       "cookies      345543.0    344660.0\n",
       "clicks        28378.0     28325.0\n",
       "enrollments    3785.0      3423.0\n",
       "payments       2033.0      1945.0"
      ]
     },
     "execution_count": 138,
     "metadata": {},
     "output_type": "execute_result"
    }
   ],
   "source": [
    "# Summarize data \n",
    "results = {\"Control\":pd.Series([df_control.Pageviews.sum(),df_control.Clicks.sum(),\n",
    "                                  df_control.Enrollments.sum(),df_control.Payments.sum()],\n",
    "                                  index = [\"cookies\",\"clicks\",\"enrollments\",\"payments\"]),\n",
    "           \"Experiment\":pd.Series([df_experiment.Pageviews.sum(),df_experiment.Clicks.sum(),\n",
    "                               df_experiment.Enrollments.sum(),df_experiment.Payments.sum()],\n",
    "                               index = [\"cookies\",\"clicks\",\"enrollments\",\"payments\"])}\n",
    "df_results = pd.DataFrame(results)\n",
    "df_results"
   ]
  },
  {
   "cell_type": "code",
   "execution_count": 139,
   "metadata": {},
   "outputs": [],
   "source": [
    "# Calculate SE, ME, CI and Diff\n",
    "df_results['Total'] = df_results.Control + df_results.Experiment\n",
    "df_results['Expected_value'] = 0.5\n",
    "df_results['Observed_value'] = df_results.Experiment/df_results.Total\n",
    "df_results['Standard_Error'] = np.sqrt((df_results.Expected_value * (1-df_results.Expected_value))*(1/df_results.Control) + (1/df_results.Experiment))\n",
    "df_results['Marginal_Error'] = df_results.Standard_Error * 1.96\n",
    "df_results['CI_lower'] = df_results.Expected_value - df_results.Marginal_Error\n",
    "df_results['CI_upper'] = df_results.Expected_value + df_results.Marginal_Error\n",
    "df_results[\"Pass_Sanity\"] = df_results.apply(lambda x: (x.Observed_value > x.CI_lower) and (x.Observed_value < x.CI_upper),axis=1)\n",
    "df_results['Diff'] = abs((df_results.Experiment - df_results.Control)/df_results.Total)"
   ]
  },
  {
   "cell_type": "code",
   "execution_count": 140,
   "metadata": {},
   "outputs": [
    {
     "data": {
      "text/html": [
       "<div>\n",
       "<style scoped>\n",
       "    .dataframe tbody tr th:only-of-type {\n",
       "        vertical-align: middle;\n",
       "    }\n",
       "\n",
       "    .dataframe tbody tr th {\n",
       "        vertical-align: top;\n",
       "    }\n",
       "\n",
       "    .dataframe thead th {\n",
       "        text-align: right;\n",
       "    }\n",
       "</style>\n",
       "<table border=\"1\" class=\"dataframe\">\n",
       "  <thead>\n",
       "    <tr style=\"text-align: right;\">\n",
       "      <th></th>\n",
       "      <th>Control</th>\n",
       "      <th>Experiment</th>\n",
       "      <th>Total</th>\n",
       "      <th>Expected_value</th>\n",
       "      <th>Observed_value</th>\n",
       "      <th>Standard_Error</th>\n",
       "      <th>Marginal_Error</th>\n",
       "      <th>CI_lower</th>\n",
       "      <th>CI_upper</th>\n",
       "      <th>Pass_Sanity</th>\n",
       "      <th>Diff</th>\n",
       "    </tr>\n",
       "  </thead>\n",
       "  <tbody>\n",
       "    <tr>\n",
       "      <th>cookies</th>\n",
       "      <td>345543.0</td>\n",
       "      <td>344660.0</td>\n",
       "      <td>690203.0</td>\n",
       "      <td>0.5</td>\n",
       "      <td>0.499360</td>\n",
       "      <td>0.001904</td>\n",
       "      <td>0.003732</td>\n",
       "      <td>0.496268</td>\n",
       "      <td>0.503732</td>\n",
       "      <td>True</td>\n",
       "      <td>0.001279</td>\n",
       "    </tr>\n",
       "    <tr>\n",
       "      <th>clicks</th>\n",
       "      <td>28378.0</td>\n",
       "      <td>28325.0</td>\n",
       "      <td>56703.0</td>\n",
       "      <td>0.5</td>\n",
       "      <td>0.499533</td>\n",
       "      <td>0.006642</td>\n",
       "      <td>0.013018</td>\n",
       "      <td>0.486982</td>\n",
       "      <td>0.513018</td>\n",
       "      <td>True</td>\n",
       "      <td>0.000935</td>\n",
       "    </tr>\n",
       "    <tr>\n",
       "      <th>enrollments</th>\n",
       "      <td>3785.0</td>\n",
       "      <td>3423.0</td>\n",
       "      <td>7208.0</td>\n",
       "      <td>0.5</td>\n",
       "      <td>0.474889</td>\n",
       "      <td>0.018926</td>\n",
       "      <td>0.037095</td>\n",
       "      <td>0.462905</td>\n",
       "      <td>0.537095</td>\n",
       "      <td>True</td>\n",
       "      <td>0.050222</td>\n",
       "    </tr>\n",
       "    <tr>\n",
       "      <th>payments</th>\n",
       "      <td>2033.0</td>\n",
       "      <td>1945.0</td>\n",
       "      <td>3978.0</td>\n",
       "      <td>0.5</td>\n",
       "      <td>0.488939</td>\n",
       "      <td>0.025241</td>\n",
       "      <td>0.049472</td>\n",
       "      <td>0.450528</td>\n",
       "      <td>0.549472</td>\n",
       "      <td>True</td>\n",
       "      <td>0.022122</td>\n",
       "    </tr>\n",
       "  </tbody>\n",
       "</table>\n",
       "</div>"
      ],
      "text/plain": [
       "              Control  Experiment     Total  Expected_value  Observed_value  \\\n",
       "cookies      345543.0    344660.0  690203.0             0.5        0.499360   \n",
       "clicks        28378.0     28325.0   56703.0             0.5        0.499533   \n",
       "enrollments    3785.0      3423.0    7208.0             0.5        0.474889   \n",
       "payments       2033.0      1945.0    3978.0             0.5        0.488939   \n",
       "\n",
       "             Standard_Error  Marginal_Error  CI_lower  CI_upper  Pass_Sanity  \\\n",
       "cookies            0.001904        0.003732  0.496268  0.503732         True   \n",
       "clicks             0.006642        0.013018  0.486982  0.513018         True   \n",
       "enrollments        0.018926        0.037095  0.462905  0.537095         True   \n",
       "payments           0.025241        0.049472  0.450528  0.549472         True   \n",
       "\n",
       "                 Diff  \n",
       "cookies      0.001279  \n",
       "clicks       0.000935  \n",
       "enrollments  0.050222  \n",
       "payments     0.022122  "
      ]
     },
     "execution_count": 140,
     "metadata": {},
     "output_type": "execute_result"
    }
   ],
   "source": [
    "# Overview the results\n",
    "df_results"
   ]
  },
  {
   "cell_type": "code",
   "execution_count": 141,
   "metadata": {},
   "outputs": [
    {
     "name": "stdout",
     "output_type": "stream",
     "text": [
      "control value: 0.08212581357457682\n",
      "observed value: 0.08218244066616376\n",
      "Standard Error: 0.0004670682765546443\n",
      "marginal error: 0.0009154538220471028\n",
      "Confidence Interval upper: 0.08309789448821087\n",
      "Confidence Interval lower : 0.08126698684411665\n"
     ]
    }
   ],
   "source": [
    "# click through probability \n",
    "\n",
    "control_cookies = df_results.loc['cookies','Control']\n",
    "control_clicks = df_results.loc['clicks','Control']\n",
    "\n",
    "exp_cookies = df_results.loc['cookies','Experiment']\n",
    "exp_clicks = df_results.loc['clicks', 'Experiment']\n",
    "\n",
    "## control value \n",
    "cont_v = control_clicks/control_cookies\n",
    "\n",
    "## observed value \n",
    "obs_v = exp_clicks/exp_cookies\n",
    "\n",
    "## Standard Error\n",
    "se_v = np.sqrt((cont_v * (1- cont_v))/control_cookies)\n",
    "\n",
    "## marginal error (z = 1.96)\n",
    "me_v = se_v * 1.96\n",
    "\n",
    "## Confidence Interval\n",
    "upper_ClickProb = obs_v + me_v\n",
    "lower_ClickProb = obs_v - me_v\n",
    "\n",
    "## Sane in the membrane (yes, it passes)\n",
    "print \"control value:\",cont_v\n",
    "print \"observed value:\",obs_v\n",
    "print \"Standard Error:\",se_v\n",
    "print \"marginal error:\",me_v\n",
    "print \"Confidence Interval upper:\",upper_ClickProb\n",
    "print \"Confidence Interval lower :\",lower_ClickProb\n",
    "\n"
   ]
  },
  {
   "cell_type": "markdown",
   "metadata": {},
   "source": [
    "## Result Analysis\n",
    "### Effect Size Tests"
   ]
  },
  {
   "cell_type": "code",
   "execution_count": 142,
   "metadata": {},
   "outputs": [],
   "source": [
    "df_control_sub=df_control[df_control.Enrollments.notnull()==True]\n",
    "df_experiment_sub=df_experiment[df_experiment.Enrollments.notnull()==True]"
   ]
  },
  {
   "cell_type": "code",
   "execution_count": 143,
   "metadata": {},
   "outputs": [
    {
     "name": "stdout",
     "output_type": "stream",
     "text": [
      "Gross conversion observed for control group: 0.218874689181\n",
      "Gross conversion observed for experiment group: 0.1983198146\n",
      "Pool probability: 0.208607067404\n",
      "Pool standard error: 0.003089764805374595\n",
      "Margin of error: 0.006055939018534206\n",
      "Difference observed between control and experiment group -0.0205548745804\n",
      "Lower bound of the 95% of the confidence intervall: -0.02661081359889577\n",
      "Upper bound of the 95% of the confidence intervall: -0.01449893556182736\n"
     ]
    }
   ],
   "source": [
    "N_cont=sum(df_control_sub.Clicks)\n",
    "X_cont=sum(df_control_sub.Enrollments)\n",
    "\n",
    "N_exp=sum(df_experiment_sub.Clicks)\n",
    "X_exp=sum(df_experiment_sub.Enrollments)\n",
    "\n",
    "print \"Gross conversion observed for control group:\",X_cont/N_cont\n",
    "print \"Gross conversion observed for experiment group:\",X_exp/N_exp\n",
    "\n",
    "p_pool=(X_cont+X_exp)/(N_cont+N_exp)\n",
    "print \"Pool probability:\",p_pool\n",
    "\n",
    "SE_pool=np.sqrt(p_pool*(1-p_pool)*(1/N_cont+1/N_exp))\n",
    "print \"Pool standard error:\",SE_pool\n",
    "\n",
    "m=1.96*SE_pool\n",
    "print \"Margin of error:\",m\n",
    "\n",
    "d_observed=X_exp/N_exp-X_cont/N_cont\n",
    "print \"Difference observed between control and experiment group\",d_observed\n",
    "\n",
    "lower_bound=d_observed-m\n",
    "print \"Lower bound of the 95% of the confidence intervall:\",lower_bound\n",
    "upper_bound=d_observed+m\n",
    "print \"Upper bound of the 95% of the confidence intervall:\", upper_bound"
   ]
  },
  {
   "cell_type": "code",
   "execution_count": 144,
   "metadata": {},
   "outputs": [
    {
     "name": "stdout",
     "output_type": "stream",
     "text": [
      "Net conversion observed for control group: 0.117562019314\n",
      "Net conversion observed for experiment group: 0.11268829664\n",
      "Pool probability: 0.115127485312\n",
      "Pool standard error: 0.0024271392384427114\n",
      "Margin of error: 0.004757192907347714\n",
      "Difference observed between control and experiment group -0.00487372267454\n",
      "Lower bound of the 95% of the confidence intervall: -0.009630915581891882\n",
      "Upper bound of the 95% of the confidence intervall: -0.0001165297671964537\n"
     ]
    }
   ],
   "source": [
    "N_cont=sum(df_control_sub.Clicks)\n",
    "X_cont=sum(df_control_sub.Payments)\n",
    "\n",
    "N_exp=sum(df_experiment_sub.Clicks)\n",
    "X_exp=sum(df_experiment_sub.Payments)\n",
    "\n",
    "print \"Net conversion observed for control group:\",X_cont/N_cont\n",
    "print \"Net conversion observed for experiment group:\",X_exp/N_exp\n",
    "\n",
    "p_pool=(X_cont+X_exp)/(N_cont+N_exp)\n",
    "print \"Pool probability:\",p_pool\n",
    "\n",
    "SE_pool=np.sqrt(p_pool*(1-p_pool)*(1/N_cont+1/N_exp))\n",
    "print \"Pool standard error:\",SE_pool\n",
    "\n",
    "m=1.96*SE_pool\n",
    "print \"Margin of error:\",m\n",
    "\n",
    "d_observed=X_exp/N_exp-X_cont/N_cont\n",
    "print \"Difference observed between control and experiment group\",d_observed\n",
    "\n",
    "lower_bound=d_observed-m\n",
    "print \"Lower bound of the 95% of the confidence intervall:\",lower_bound\n",
    "upper_bound=d_observed+m\n",
    "print \"Upper bound of the 95% of the confidence intervall:\", upper_bound"
   ]
  },
  {
   "cell_type": "markdown",
   "metadata": {},
   "source": [
    "Since the confidence interval For the gross conversion metric doesn’t include 0, the test is statistically significant.\n",
    "and the confidence interval For net conversion metric includes 0, the test is not statistically significant.  \n",
    "In the other hand The confidence interval [0.02912,0.01198] is inferior to the practical boundary (­0.01), so we can say that the test is practically significant.Whereas the net conversion metric confidence interval [­0.0116 , 0.00186] includes the practical boundary (­0.0075), so the test is not practically significant."
   ]
  },
  {
   "cell_type": "markdown",
   "metadata": {},
   "source": [
    "### Sign Test\n",
    "\n",
    "Two-tailed t-tests were run using the [this calculator](http://graphpad.com/quickcalcs/binomial1.cfm) tool to calculate the sign and binomial test and compare the results with the practical and significance test. \n",
    "\n",
    "#### **Gross Conversion**\n",
    "\n",
    "* Improvement Days: 4\n",
    "* Total Days: 23\n",
    "* Hypothesis Probability: 0.5\n",
    "* p-value: 0.0026\n",
    "\n",
    "**Statistical Significance: YES**\n",
    "\n",
    "This is significant because the p-value is smaller than alpha.\n",
    "\n",
    "#### **Net Conversion**\n",
    "\n",
    "* Improvement Days: 10\n",
    "* Total Days: 23\n",
    "* Hypothesis Probability: 0.5\n",
    "* p-value: 0.6776\n",
    "\n",
    "**Statistical Significance: NO**\n",
    "\n",
    "This is not significant because the p-value is greater than alpha."
   ]
  },
  {
   "cell_type": "markdown",
   "metadata": {},
   "source": [
    "## Summary\n",
    "\n",
    "To sum up, the control group is enrolled in a free trial for the paid version of the course, while experiment group went through the process of answering the question about how many hours they are can commit for the class. The unit of diversion is cookie (page views) and it’s an invariant metrics that didn’t change during the experiment.\n",
    "I didn’t use the Bonferroni correction because the proposed hypothesis for this experiment both evaluation metrics would had to show statistical significance in order to launch the change, that is Gross Conversion decrease and the Net Conversion stay at the same level or increase. The Bonferroni correction would recommend the change if any metric would show the statistical significance.\n",
    "\n",
    "From the above analysis we can conclude that the gross conversion metric has been verified to be both practically and statistically significant by both the hypothesis test and the sign test, and therefore rejection of the null hypothesis, but the net conversion was not.\n",
    "\n",
    "The experiment did not show strong evidence that the screener successfully diverted the students who would not remain past the free trial period, or the students who were taking advantage of the free trial for 14 days and canceling their subscription before making the first payment, or that Udacity could improve the overall student experience and improve coaches’ capacity to support students who are likely to complete the course.\n",
    "\n",
    "From the above analysis we can conclude that the gross conversion metric has been verified to be both practically and statistically significant by both the hypothesis test and the sign test. While the net conversion rate was not.\n"
   ]
  },
  {
   "cell_type": "markdown",
   "metadata": {},
   "source": [
    "## Recommendation\n",
    "\n",
    "I do not recommend pushing the free trial screener to the live Udacity service based on the results of this A/B test because \n",
    "as stated in the expectations for launching the experiment, is to filter students base on study time commitment to improve the overall student experience, without negatively impacting the number of students that continue through the trial period and into full enrollment. \n",
    "From our analysis we have found that there was a significant decrease in the gross conversion rate, but the confidence interval for net conversion includes the negative practical significance boundry. In other word there were a decrease in enrollment that was accompanied by no differences in conversions to enrollment from the trial period, so this experiment was not effective in accomplishing it's goals. \n",
    "\n"
   ]
  },
  {
   "cell_type": "markdown",
   "metadata": {},
   "source": [
    "## Follow-Up Experiment\n",
    "\n",
    "A follow-up experiment could be conducted to determine if having coaches directly contact students would reduce early cancellations by asking students if they prefer to be contacted by phone or email, in this case we will test if a consulting session will improve the retention and we will use the user ID as a unit of diversion so we can keep track of number the student contacted and we will know the number of students drooped the class versus students converted to paid version after the trail . The hypothesis would be that the new enrollee will have enough information about the courses and what is expected from him and also it will be the time for the potential student to ask questions that may clear up ambiguity\n",
    "\n"
   ]
  },
  {
   "cell_type": "code",
   "execution_count": null,
   "metadata": {},
   "outputs": [],
   "source": []
  }
 ],
 "metadata": {
  "kernelspec": {
   "display_name": "Python 2",
   "language": "python",
   "name": "python2"
  },
  "language_info": {
   "codemirror_mode": {
    "name": "ipython",
    "version": 2
   },
   "file_extension": ".py",
   "mimetype": "text/x-python",
   "name": "python",
   "nbconvert_exporter": "python",
   "pygments_lexer": "ipython2",
   "version": "2.7.15"
  }
 },
 "nbformat": 4,
 "nbformat_minor": 2
}
